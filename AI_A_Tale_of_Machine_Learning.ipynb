{
  "nbformat": 4,
  "nbformat_minor": 0,
  "metadata": {
    "colab": {
      "name": "AI-A_Tale_of_Machine_Learning.ipynb",
      "provenance": [],
      "include_colab_link": true
    },
    "kernelspec": {
      "name": "python3",
      "display_name": "Python 3"
    }
  },
  "cells": [
    {
      "cell_type": "markdown",
      "metadata": {
        "id": "view-in-github",
        "colab_type": "text"
      },
      "source": [
        "<a href=\"https://colab.research.google.com/github/EthanIrwin/AI/blob/master/AI_A_Tale_of_Machine_Learning.ipynb\" target=\"_parent\"><img src=\"https://colab.research.google.com/assets/colab-badge.svg\" alt=\"Open In Colab\"/></a>"
      ]
    },
    {
      "cell_type": "code",
      "metadata": {
        "id": "VzWzf7bkV-Rh",
        "colab_type": "code",
        "colab": {}
      },
      "source": [
        ""
      ],
      "execution_count": 0,
      "outputs": []
    },
    {
      "cell_type": "markdown",
      "metadata": {
        "id": "4zvzhyO7WM7G",
        "colab_type": "text"
      },
      "source": [
        "Welcome to homework 4.\n",
        "Apologies ahead of time for not making it beautiful. I got other finals to take care of. Go to settings and turn on the corgi and cat options to make grading this more enjorable."
      ]
    },
    {
      "cell_type": "code",
      "metadata": {
        "id": "HqxrXcfxWZ4l",
        "colab_type": "code",
        "colab": {}
      },
      "source": [
        "# I summon a bunch of stuff that will be needed for code to work.\n",
        "import matplotlib.pyplot as plt\n",
        "import numpy as np\n",
        "import os\n",
        "import zipfile\n",
        "import tensorflow as tf\n",
        "from tensorflow import keras\n",
        "from keras import utils\n",
        "from keras import layers\n",
        "from keras import models\n",
        "from keras import optimizers\n",
        "from keras.preprocessing.image import ImageDataGenerator"
      ],
      "execution_count": 0,
      "outputs": []
    },
    {
      "cell_type": "markdown",
      "metadata": {
        "id": "gcicYpdJWzUJ",
        "colab_type": "text"
      },
      "source": [
        "# ***Chapter 1: AI***"
      ]
    },
    {
      "cell_type": "markdown",
      "metadata": {
        "id": "mGX8z9LFW4ai",
        "colab_type": "text"
      },
      "source": [
        "Introduction to AI.\n",
        "Artificial Intelligence is a field in computing pertaining to the pursuit of intelligent machines. There are often misconceptions about what is or is not AI, but it is important to note that AI broadly encompasses everything relating to machine intelligence.\n",
        "Basically, AI, or Aritificial Intelligence, is attempting to make machines make intelligent decisions. Mimicing sentience in a way. This is a broad category where a niche AI can become smart at determining cats vs dogs and become as good as a human, where as a more general AI that becomes good at everything is the AI of movies. But one day perhaps obtainable.\n",
        "\n",
        "What is machine learning?\n",
        "Give the machine data, to teach it to teach itself. If you give a man a fish he can eat  for a day, if you teach an AI to how to learn then it can start figuring out what a fish is based on a vast array of training and testing data and then it will overfush the worlds population and we will all go extinct. You know, the common saying.\n",
        "\n",
        "What is deep learning?\n",
        "Basically we use various layers to teach a machine. Like filtering the data to show it what is most important."
      ]
    },
    {
      "cell_type": "markdown",
      "metadata": {
        "id": "Jqu-0cXkYJXB",
        "colab_type": "text"
      },
      "source": [
        "\n",
        "Bias\n",
        "Constant value influencing model.\n",
        "\n",
        "Feature\n",
        "Measurement/Description. The input to the program that the machine will be making decisions off of.\n",
        "\n",
        "Gradient descent\n",
        "Optimization algorithm used to minimize loss by moving in the steepest direction defined by the gradient. Used to alter weights of the model as well.\n",
        "\n",
        "Label\n",
        "A label for a set of data. For instance \"Dogs\" or \"Cats\" so that the machine knows what category an image belongs in.\n",
        "\n",
        "Learning rate\n",
        "Effects the power of gradient decent. Too low and never learn, too high and overshoot goal.\n",
        "\n",
        "Linear regression\n",
        "Linear relationship between features for makeing predictions about input data.\n",
        "\n",
        "Loss\n",
        "Difference between real and predicted data.\n",
        "\n",
        "Weights\n",
        "Importance of a feature represented as a value. Higher the value, the more important that feature to be used for decisions."
      ]
    },
    {
      "cell_type": "markdown",
      "metadata": {
        "id": "UYeNYROKaaTF",
        "colab_type": "text"
      },
      "source": [
        ""
      ]
    },
    {
      "cell_type": "markdown",
      "metadata": {
        "id": "oJqDN4vagHLD",
        "colab_type": "text"
      },
      "source": [
        "MNIST: Pre Processing"
      ]
    },
    {
      "cell_type": "code",
      "metadata": {
        "id": "6V-kxRh9aer1",
        "colab_type": "code",
        "colab": {
          "base_uri": "https://localhost:8080/",
          "height": 155
        },
        "outputId": "34988baa-678f-4ab6-9ce4-9f04d14a4eac"
      },
      "source": [
        "fashion_mnist = keras.datasets.fashion_mnist\n",
        "(train_images, train_labels), (test_images, test_labels) = fashion_mnist.load_data()\n",
        "\n",
        "class_names = ['T-shirt/top', 'Trouser', 'Pullover', 'Dress', 'Coat',\n",
        "               'Sandal', 'Shirt', 'Sneaker', 'Bag', 'Ankle boot']\n",
        "\n",
        "train_images = train_images / 255.0\n",
        "test_images = test_images / 255.0"
      ],
      "execution_count": 4,
      "outputs": [
        {
          "output_type": "stream",
          "text": [
            "Downloading data from https://storage.googleapis.com/tensorflow/tf-keras-datasets/train-labels-idx1-ubyte.gz\n",
            "32768/29515 [=================================] - 0s 0us/step\n",
            "Downloading data from https://storage.googleapis.com/tensorflow/tf-keras-datasets/train-images-idx3-ubyte.gz\n",
            "26427392/26421880 [==============================] - 0s 0us/step\n",
            "Downloading data from https://storage.googleapis.com/tensorflow/tf-keras-datasets/t10k-labels-idx1-ubyte.gz\n",
            "8192/5148 [===============================================] - 0s 0us/step\n",
            "Downloading data from https://storage.googleapis.com/tensorflow/tf-keras-datasets/t10k-images-idx3-ubyte.gz\n",
            "4423680/4422102 [==============================] - 0s 0us/step\n"
          ],
          "name": "stdout"
        }
      ]
    },
    {
      "cell_type": "markdown",
      "metadata": {
        "id": "gLoDFUX8dROs",
        "colab_type": "text"
      },
      "source": [
        "# CHAPTER 2: ***Models***"
      ]
    },
    {
      "cell_type": "markdown",
      "metadata": {
        "id": "BKV5uNVIavDC",
        "colab_type": "text"
      },
      "source": [
        "Layers\n",
        "Allows the network to detect features and classify input based on features.\n",
        "\n",
        "Standard convolutional layers\n",
        "A convolutional layer applies a filter to an input, resulting in an activation. \n",
        "\n",
        "Pooling convolutional layers\n",
        "The purpose of these layers is to decrease the spatial size of the convolved feature. \n",
        "\n",
        "Dense layers\n",
        "A dense layer does a matrix vector multiplication on the input, and outputs a vector.\n",
        "\n",
        "Activation functions\n",
        "Dispite knowing what these do, getting the right ones to get the desired overfit, underfit, ect, were basically a guessing game.\n",
        "\n",
        "ReLU (Rectified Linear Unit)\n",
        "The ReLU function drops all numerical data that is less than zero, and leaves everything else unchanged.\n",
        "\n",
        "Softmax\n",
        "The Softmax function converts numerical inputs into a vector of probablities summing to 1.0.\n",
        "\n",
        "Sigmoid\n",
        "The Sigmoid function is a monotonically increasing function that returns a value from 0 to 1."
      ]
    },
    {
      "cell_type": "markdown",
      "metadata": {
        "id": "xBAGTeB-beM-",
        "colab_type": "text"
      },
      "source": [
        "Using the previously mentioned activations"
      ]
    },
    {
      "cell_type": "code",
      "metadata": {
        "id": "NjP1TlJqbhuE",
        "colab_type": "code",
        "colab": {
          "base_uri": "https://localhost:8080/",
          "height": 587
        },
        "outputId": "73644bc3-7927-4def-ef54-df2784ee99b3"
      },
      "source": [
        "model = models.Sequential()\n",
        "\n",
        "model.add(layers.Conv1D(32, 3, activation='relu', input_shape=(28, 28)))\n",
        "model.add(layers.MaxPooling1D(2))\n",
        "\n",
        "model.add(layers.Conv1D(64, 3, activation='relu'))\n",
        "model.add(layers.MaxPooling1D(2))\n",
        "\n",
        "model.add(layers.Conv1D(128, 3, activation='relu'))\n",
        "\n",
        "model.add(layers.Flatten())\n",
        "\n",
        "model.add(layers.Dense(32, activation='relu'))\n",
        "model.add(layers.Dense(10, activation='softmax'))\n",
        "\n",
        "model.summary()"
      ],
      "execution_count": 5,
      "outputs": [
        {
          "output_type": "stream",
          "text": [
            "WARNING:tensorflow:From /usr/local/lib/python3.6/dist-packages/keras/backend/tensorflow_backend.py:66: The name tf.get_default_graph is deprecated. Please use tf.compat.v1.get_default_graph instead.\n",
            "\n",
            "WARNING:tensorflow:From /usr/local/lib/python3.6/dist-packages/keras/backend/tensorflow_backend.py:541: The name tf.placeholder is deprecated. Please use tf.compat.v1.placeholder instead.\n",
            "\n",
            "WARNING:tensorflow:From /usr/local/lib/python3.6/dist-packages/keras/backend/tensorflow_backend.py:4432: The name tf.random_uniform is deprecated. Please use tf.random.uniform instead.\n",
            "\n",
            "WARNING:tensorflow:From /usr/local/lib/python3.6/dist-packages/keras/backend/tensorflow_backend.py:4267: The name tf.nn.max_pool is deprecated. Please use tf.nn.max_pool2d instead.\n",
            "\n",
            "Model: \"sequential_1\"\n",
            "_________________________________________________________________\n",
            "Layer (type)                 Output Shape              Param #   \n",
            "=================================================================\n",
            "conv1d_1 (Conv1D)            (None, 26, 32)            2720      \n",
            "_________________________________________________________________\n",
            "max_pooling1d_1 (MaxPooling1 (None, 13, 32)            0         \n",
            "_________________________________________________________________\n",
            "conv1d_2 (Conv1D)            (None, 11, 64)            6208      \n",
            "_________________________________________________________________\n",
            "max_pooling1d_2 (MaxPooling1 (None, 5, 64)             0         \n",
            "_________________________________________________________________\n",
            "conv1d_3 (Conv1D)            (None, 3, 128)            24704     \n",
            "_________________________________________________________________\n",
            "flatten_1 (Flatten)          (None, 384)               0         \n",
            "_________________________________________________________________\n",
            "dense_1 (Dense)              (None, 32)                12320     \n",
            "_________________________________________________________________\n",
            "dense_2 (Dense)              (None, 10)                330       \n",
            "=================================================================\n",
            "Total params: 46,282\n",
            "Trainable params: 46,282\n",
            "Non-trainable params: 0\n",
            "_________________________________________________________________\n"
          ],
          "name": "stdout"
        }
      ]
    },
    {
      "cell_type": "markdown",
      "metadata": {
        "id": "eFwQkt81dfZn",
        "colab_type": "text"
      },
      "source": [
        "# CHAPTER 3 ***Compiling the model***"
      ]
    },
    {
      "cell_type": "markdown",
      "metadata": {
        "id": "wfSmc3Ladmgd",
        "colab_type": "text"
      },
      "source": [
        "Optimizers\n",
        "Optimizer functions, in conjunction with learning rate, help the model zero in on minimal loss values for each weight. Gradient descent is a popular example.\n",
        "\n",
        "SGD (Stochastic Gradient Descent)\n",
        "A variant of gradient descent, with limited random selections. Creates more \"Noise\", but much less computationally demanding.\n",
        "\n",
        "RMSprop (Root Mean Square Propogation)\n",
        "RMSprop is gradient descent with momentum. It also varies learning rate for each individual weight.\n",
        "\n",
        "These can effect learning rates, and as such, they can make a big difference in whether a model over or underfits."
      ]
    },
    {
      "cell_type": "code",
      "metadata": {
        "id": "Jun7K5kcd5is",
        "colab_type": "code",
        "colab": {
          "base_uri": "https://localhost:8080/",
          "height": 86
        },
        "outputId": "fbeb1128-8b62-41c2-9543-9574f10cca6b"
      },
      "source": [
        "# compile model\n",
        "model.compile(optimizer=optimizers.RMSprop(lr=1e-4),\n",
        "              loss='sparse_categorical_crossentropy',\n",
        "              metrics=['accuracy'])"
      ],
      "execution_count": 6,
      "outputs": [
        {
          "output_type": "stream",
          "text": [
            "WARNING:tensorflow:From /usr/local/lib/python3.6/dist-packages/keras/optimizers.py:793: The name tf.train.Optimizer is deprecated. Please use tf.compat.v1.train.Optimizer instead.\n",
            "\n",
            "WARNING:tensorflow:From /usr/local/lib/python3.6/dist-packages/keras/backend/tensorflow_backend.py:3622: The name tf.log is deprecated. Please use tf.math.log instead.\n",
            "\n"
          ],
          "name": "stdout"
        }
      ]
    },
    {
      "cell_type": "markdown",
      "metadata": {
        "id": "XOs6JjKWd76R",
        "colab_type": "text"
      },
      "source": [
        "Chapter 4: ***Training the model***"
      ]
    },
    {
      "cell_type": "markdown",
      "metadata": {
        "id": "MLNujs-LbtZd",
        "colab_type": "text"
      },
      "source": [
        "Underfit\n",
        "The model is no better than random guesses, or not accurate enough. The learning of the system does not allow for the machine to determine enough rules to accuratly identify test data.\n",
        "\n",
        "Overfit\n",
        "The model learns to perfectly detect the images in the training data from not training data, rather than generalizing. This leads to the machine rather than learning what a cat is, learning how to identify cat images #1 - #7000, and knowing what images are not those. So not helpful.\n",
        "\n",
        "Pretty-good-fit\n",
        "This is considered a pretty good model. Training trains the machine and then it can perform and identify the testing data."
      ]
    },
    {
      "cell_type": "code",
      "metadata": {
        "id": "-NuHvoOnclxA",
        "colab_type": "code",
        "colab": {}
      },
      "source": [
        ""
      ],
      "execution_count": 0,
      "outputs": []
    },
    {
      "cell_type": "markdown",
      "metadata": {
        "id": "Hs-qRbQUcmPJ",
        "colab_type": "text"
      },
      "source": [
        "Epoch\n",
        "Each epoch represents a single run of the dataset forward and backwards through the network. The higher this is, the longer it will take to run, but the more times it will run. Bascially like how many data points do you want."
      ]
    },
    {
      "cell_type": "code",
      "metadata": {
        "id": "oB9SPO36cmow",
        "colab_type": "code",
        "colab": {
          "base_uri": "https://localhost:8080/",
          "height": 897
        },
        "outputId": "726bf215-d989-434f-8479-137cadaeb9c7"
      },
      "source": [
        "epochs = 15\n",
        "history = model.fit(train_images, \n",
        "                    train_labels, \n",
        "                    epochs=epochs,  \n",
        "                    validation_data=(test_images, test_labels))\n",
        "\n",
        "model.save('mnist_fashion')"
      ],
      "execution_count": 7,
      "outputs": [
        {
          "output_type": "stream",
          "text": [
            "WARNING:tensorflow:From /usr/local/lib/python3.6/dist-packages/tensorflow_core/python/ops/math_grad.py:1424: where (from tensorflow.python.ops.array_ops) is deprecated and will be removed in a future version.\n",
            "Instructions for updating:\n",
            "Use tf.where in 2.0, which has the same broadcast rule as np.where\n",
            "WARNING:tensorflow:From /usr/local/lib/python3.6/dist-packages/keras/backend/tensorflow_backend.py:1033: The name tf.assign_add is deprecated. Please use tf.compat.v1.assign_add instead.\n",
            "\n",
            "WARNING:tensorflow:From /usr/local/lib/python3.6/dist-packages/keras/backend/tensorflow_backend.py:1020: The name tf.assign is deprecated. Please use tf.compat.v1.assign instead.\n",
            "\n",
            "WARNING:tensorflow:From /usr/local/lib/python3.6/dist-packages/keras/backend/tensorflow_backend.py:3005: The name tf.Session is deprecated. Please use tf.compat.v1.Session instead.\n",
            "\n",
            "Train on 60000 samples, validate on 10000 samples\n",
            "Epoch 1/15\n",
            "WARNING:tensorflow:From /usr/local/lib/python3.6/dist-packages/keras/backend/tensorflow_backend.py:190: The name tf.get_default_session is deprecated. Please use tf.compat.v1.get_default_session instead.\n",
            "\n",
            "WARNING:tensorflow:From /usr/local/lib/python3.6/dist-packages/keras/backend/tensorflow_backend.py:197: The name tf.ConfigProto is deprecated. Please use tf.compat.v1.ConfigProto instead.\n",
            "\n",
            "WARNING:tensorflow:From /usr/local/lib/python3.6/dist-packages/keras/backend/tensorflow_backend.py:207: The name tf.global_variables is deprecated. Please use tf.compat.v1.global_variables instead.\n",
            "\n",
            "WARNING:tensorflow:From /usr/local/lib/python3.6/dist-packages/keras/backend/tensorflow_backend.py:216: The name tf.is_variable_initialized is deprecated. Please use tf.compat.v1.is_variable_initialized instead.\n",
            "\n",
            "WARNING:tensorflow:From /usr/local/lib/python3.6/dist-packages/keras/backend/tensorflow_backend.py:223: The name tf.variables_initializer is deprecated. Please use tf.compat.v1.variables_initializer instead.\n",
            "\n",
            "60000/60000 [==============================] - 16s 267us/step - loss: 0.9084 - acc: 0.6907 - val_loss: 0.6695 - val_acc: 0.7491\n",
            "Epoch 2/15\n",
            "60000/60000 [==============================] - 13s 213us/step - loss: 0.5986 - acc: 0.7798 - val_loss: 0.5980 - val_acc: 0.7789\n",
            "Epoch 3/15\n",
            "60000/60000 [==============================] - 14s 227us/step - loss: 0.5409 - acc: 0.8017 - val_loss: 0.5490 - val_acc: 0.7966\n",
            "Epoch 4/15\n",
            "60000/60000 [==============================] - 14s 237us/step - loss: 0.5066 - acc: 0.8141 - val_loss: 0.5110 - val_acc: 0.8121\n",
            "Epoch 5/15\n",
            "60000/60000 [==============================] - 13s 224us/step - loss: 0.4807 - acc: 0.8276 - val_loss: 0.5033 - val_acc: 0.8165\n",
            "Epoch 6/15\n",
            "60000/60000 [==============================] - 15s 242us/step - loss: 0.4587 - acc: 0.8354 - val_loss: 0.4714 - val_acc: 0.8291\n",
            "Epoch 7/15\n",
            "60000/60000 [==============================] - 15s 248us/step - loss: 0.4406 - acc: 0.8429 - val_loss: 0.4903 - val_acc: 0.8219\n",
            "Epoch 8/15\n",
            "60000/60000 [==============================] - 15s 257us/step - loss: 0.4258 - acc: 0.8480 - val_loss: 0.4538 - val_acc: 0.8401\n",
            "Epoch 9/15\n",
            "60000/60000 [==============================] - 14s 227us/step - loss: 0.4137 - acc: 0.8524 - val_loss: 0.4281 - val_acc: 0.8471\n",
            "Epoch 10/15\n",
            "60000/60000 [==============================] - 14s 227us/step - loss: 0.4048 - acc: 0.8552 - val_loss: 0.4355 - val_acc: 0.8440\n",
            "Epoch 11/15\n",
            "60000/60000 [==============================] - 13s 216us/step - loss: 0.3957 - acc: 0.8591 - val_loss: 0.4304 - val_acc: 0.8464\n",
            "Epoch 12/15\n",
            "60000/60000 [==============================] - 16s 261us/step - loss: 0.3884 - acc: 0.8608 - val_loss: 0.4082 - val_acc: 0.8543\n",
            "Epoch 13/15\n",
            "60000/60000 [==============================] - 14s 241us/step - loss: 0.3821 - acc: 0.8641 - val_loss: 0.4234 - val_acc: 0.8430\n",
            "Epoch 14/15\n",
            "60000/60000 [==============================] - 15s 247us/step - loss: 0.3769 - acc: 0.8654 - val_loss: 0.4125 - val_acc: 0.8548\n",
            "Epoch 15/15\n",
            "60000/60000 [==============================] - 14s 233us/step - loss: 0.3710 - acc: 0.8673 - val_loss: 0.4077 - val_acc: 0.8554\n"
          ],
          "name": "stdout"
        }
      ]
    },
    {
      "cell_type": "code",
      "metadata": {
        "id": "5L7K-UXlc_Uu",
        "colab_type": "code",
        "colab": {}
      },
      "source": [
        ""
      ],
      "execution_count": 0,
      "outputs": []
    },
    {
      "cell_type": "markdown",
      "metadata": {
        "id": "pLf93aJ7c_xk",
        "colab_type": "text"
      },
      "source": [
        "Good Fit Model"
      ]
    },
    {
      "cell_type": "code",
      "metadata": {
        "id": "MQvkZ5ftc7PP",
        "colab_type": "code",
        "colab": {
          "base_uri": "https://localhost:8080/",
          "height": 545
        },
        "outputId": "06a0dfde-f4ed-4235-df3a-b85df7f0bb0e"
      },
      "source": [
        "acc = history.history['acc']\n",
        "val_acc = history.history['val_acc']\n",
        "\n",
        "loss = history.history['loss']\n",
        "val_loss = history.history['val_loss']\n",
        "\n",
        "epochs = range(1, len(acc) + 1)\n",
        "\n",
        "# training and validation accuracy\n",
        "\n",
        "plt.plot(epochs, acc, 'bo', label='training acc')\n",
        "plt.plot(epochs, val_acc, 'b', label='validation acc')\n",
        "plt.title('training and validation accuracy')\n",
        "plt.legend()\n",
        "\n",
        "plt.figure()\n",
        "\n",
        "# training and validation loss\n",
        "\n",
        "plt.plot(epochs, loss, 'bo', label='training loss')\n",
        "plt.plot(epochs, val_loss, 'b', label='validation loss')\n",
        "plt.title('training and validation loss')\n",
        "plt.legend()\n",
        "\n",
        "plt.show()"
      ],
      "execution_count": 8,
      "outputs": [
        {
          "output_type": "display_data",
          "data": {
            "image/png": "[encoded data removed]",
            "text/plain": [
              "<Figure size 432x288 with 1 Axes>"
            ]
          },
          "metadata": {
            "tags": []
          }
        },
        {
          "output_type": "display_data",
          "data": {
            "image/png": "[encoded data removed]",
            "text/plain": [
              "<Figure size 432x288 with 1 Axes>"
            ]
          },
          "metadata": {
            "tags": []
          }
        }
      ]
    },
    {
      "cell_type": "markdown",
      "metadata": {
        "id": "Y1_5K20zc75L",
        "colab_type": "text"
      },
      "source": [
        ""
      ]
    },
    {
      "cell_type": "markdown",
      "metadata": {
        "id": "BfdRDFPTefdK",
        "colab_type": "text"
      },
      "source": [
        "## Chapter 5 ***Fine Tuning***"
      ]
    },
    {
      "cell_type": "markdown",
      "metadata": {
        "id": "gnK-aROSewwa",
        "colab_type": "text"
      },
      "source": [
        "First thing you need is the data. Without it, what are you going to fine tune?"
      ]
    },
    {
      "cell_type": "code",
      "metadata": {
        "id": "ERmM5VyOemBZ",
        "colab_type": "code",
        "colab": {
          "base_uri": "https://localhost:8080/",
          "height": 206
        },
        "outputId": "389f48ed-a4d7-434c-f70c-e76d952974c7"
      },
      "source": [
        "!wget --no-check-certificate \\\n",
        "    https://storage.googleapis.com/mledu-datasets/cats_and_dogs_filtered.zip \\\n",
        "    -O /tmp/cats_and_dogs_filtered.zip\n",
        "    # unzip data\n",
        "local_zip = '/tmp/cats_and_dogs_filtered.zip'\n",
        "zip_ref = zipfile.ZipFile(local_zip, 'r')\n",
        "zip_ref.extractall('/tmp')\n",
        "zip_ref.close()\n",
        "base_dir = '/tmp/cats_and_dogs_filtered'\n",
        "train_dir = os.path.join(base_dir, 'train')\n",
        "validation_dir = os.path.join(base_dir, 'validation')\n",
        "\n",
        "# training cat pictures\n",
        "train_cats_dir = os.path.join(train_dir, 'cats')\n",
        "\n",
        "# training dog pictures\n",
        "train_dogs_dir = os.path.join(train_dir, 'dogs')\n",
        "\n",
        "# validation cat pictures\n",
        "validation_cats_dir = os.path.join(validation_dir, 'cats')\n",
        "\n",
        "# validation dog pictures\n",
        "validation_dogs_dir = os.path.join(validation_dir, 'dogs')"
      ],
      "execution_count": 9,
      "outputs": [
        {
          "output_type": "stream",
          "text": [
            "--2019-12-05 00:45:01--  https://storage.googleapis.com/mledu-datasets/cats_and_dogs_filtered.zip\n",
            "Resolving storage.googleapis.com (storage.googleapis.com)... 173.194.69.128, 2a00:1450:4013:c01::80\n",
            "Connecting to storage.googleapis.com (storage.googleapis.com)|173.194.69.128|:443... connected.\n",
            "HTTP request sent, awaiting response... 200 OK\n",
            "Length: 68606236 (65M) [application/zip]\n",
            "Saving to: ‘/tmp/cats_and_dogs_filtered.zip’\n",
            "\n",
            "/tmp/cats_and_dogs_ 100%[===================>]  65.43M  99.4MB/s    in 0.7s    \n",
            "\n",
            "2019-12-05 00:45:02 (99.4 MB/s) - ‘/tmp/cats_and_dogs_filtered.zip’ saved [68606236/68606236]\n",
            "\n"
          ],
          "name": "stdout"
        }
      ]
    },
    {
      "cell_type": "markdown",
      "metadata": {
        "id": "8x9p2zNNe36A",
        "colab_type": "text"
      },
      "source": [
        "Now we get the pretrained models and freeze the base."
      ]
    },
    {
      "cell_type": "code",
      "metadata": {
        "id": "fjMTlHpDe6Ue",
        "colab_type": "code",
        "colab": {
          "base_uri": "https://localhost:8080/",
          "height": 51
        },
        "outputId": "dd4dcebc-c1a2-4ea5-c6c6-1b1e6f980a0d"
      },
      "source": [
        "from keras.applications import VGG16\n",
        "\n",
        "conv_base = VGG16(\n",
        "    weights='imagenet', \n",
        "    include_top=False, \n",
        "    input_shape=(150, 150, 3))\n",
        "\n",
        "conv_base.trainable = False"
      ],
      "execution_count": 10,
      "outputs": [
        {
          "output_type": "stream",
          "text": [
            "Downloading data from https://github.com/fchollet/deep-learning-models/releases/download/v0.1/vgg16_weights_tf_dim_ordering_tf_kernels_notop.h5\n",
            "58892288/58889256 [==============================] - 42s 1us/step\n"
          ],
          "name": "stdout"
        }
      ]
    },
    {
      "cell_type": "markdown",
      "metadata": {
        "id": "qh0ZEMA6e_wO",
        "colab_type": "text"
      },
      "source": [
        "Now we take the model and add in our layers. The method to this is just guess really. As far as I can tell, this is an ongoing field of research so If I could answer an algorithm to find the best ones, then I would sure as heck not still be in college."
      ]
    },
    {
      "cell_type": "code",
      "metadata": {
        "id": "E7-6i5D6fQRr",
        "colab_type": "code",
        "colab": {
          "base_uri": "https://localhost:8080/",
          "height": 433
        },
        "outputId": "c3aa5de4-4542-4901-b42b-20ba15f362c1"
      },
      "source": [
        "model = models.Sequential()\n",
        "model.add(conv_base)\n",
        "model.add(layers.Flatten())\n",
        "model.add(layers.Dense(256, activation='relu'))\n",
        "model.add(layers.Dropout(0.1))\n",
        "model.add(layers.Dense(1, activation='sigmoid'))\n",
        "model.summary()"
      ],
      "execution_count": 11,
      "outputs": [
        {
          "output_type": "stream",
          "text": [
            "WARNING:tensorflow:From /usr/local/lib/python3.6/dist-packages/keras/backend/tensorflow_backend.py:148: The name tf.placeholder_with_default is deprecated. Please use tf.compat.v1.placeholder_with_default instead.\n",
            "\n",
            "WARNING:tensorflow:From /usr/local/lib/python3.6/dist-packages/keras/backend/tensorflow_backend.py:3733: calling dropout (from tensorflow.python.ops.nn_ops) with keep_prob is deprecated and will be removed in a future version.\n",
            "Instructions for updating:\n",
            "Please use `rate` instead of `keep_prob`. Rate should be set to `rate = 1 - keep_prob`.\n",
            "Model: \"sequential_2\"\n",
            "_________________________________________________________________\n",
            "Layer (type)                 Output Shape              Param #   \n",
            "=================================================================\n",
            "vgg16 (Model)                (None, 4, 4, 512)         14714688  \n",
            "_________________________________________________________________\n",
            "flatten_2 (Flatten)          (None, 8192)              0         \n",
            "_________________________________________________________________\n",
            "dense_3 (Dense)              (None, 256)               2097408   \n",
            "_________________________________________________________________\n",
            "dropout_1 (Dropout)          (None, 256)               0         \n",
            "_________________________________________________________________\n",
            "dense_4 (Dense)              (None, 1)                 257       \n",
            "=================================================================\n",
            "Total params: 16,812,353\n",
            "Trainable params: 2,097,665\n",
            "Non-trainable params: 14,714,688\n",
            "_________________________________________________________________\n"
          ],
          "name": "stdout"
        }
      ]
    },
    {
      "cell_type": "markdown",
      "metadata": {
        "id": "9eyAQyNFfWuo",
        "colab_type": "text"
      },
      "source": [
        "Train the model"
      ]
    },
    {
      "cell_type": "code",
      "metadata": {
        "id": "wiBNE3gnfYId",
        "colab_type": "code",
        "colab": {
          "base_uri": "https://localhost:8080/",
          "height": 86
        },
        "outputId": "bdd60123-a183-4535-e972-704114c27947"
      },
      "source": [
        "# data augmentation\n",
        "\n",
        "train_datagen = ImageDataGenerator(\n",
        "    rescale=1./255, \n",
        "    rotation_range=40,\n",
        "    width_shift_range=0.2,\n",
        "    height_shift_range=0.2,\n",
        "    shear_range=0.2,\n",
        "    zoom_range=0.2,\n",
        "    horizontal_flip=True,\n",
        "    fill_mode='nearest'\n",
        ")\n",
        "\n",
        "train_generator = train_datagen.flow_from_directory(\n",
        "    train_dir,\n",
        "    target_size=(150, 150),\n",
        "    batch_size=20,\n",
        "    class_mode='binary')\n",
        "\n",
        "validation_datagen = ImageDataGenerator(rescale=1./255)\n",
        "\n",
        "validation_generator = validation_datagen.flow_from_directory(\n",
        "    validation_dir,\n",
        "    target_size=(150, 150),\n",
        "    batch_size=20,\n",
        "    class_mode='binary')\n",
        "\n",
        "# compile model\n",
        "\n",
        "model.compile(\n",
        "    loss='binary_crossentropy', \n",
        "    optimizer=optimizers.RMSprop(lr=2e-5), \n",
        "    metrics=['acc'])\n",
        "\n",
        "# train\n",
        "\n",
        "history = model.fit_generator(\n",
        "    train_generator,\n",
        "    steps_per_epoch=100,\n",
        "    epochs=30,\n",
        "    validation_data=validation_generator,\n",
        "    validation_steps=50\n",
        ")"
      ],
      "execution_count": 0,
      "outputs": [
        {
          "output_type": "stream",
          "text": [
            "Found 2000 images belonging to 2 classes.\n",
            "Found 1000 images belonging to 2 classes.\n",
            "Epoch 1/30\n",
            " 77/100 [======================>.......] - ETA: 1:11 - loss: 0.6338 - acc: 0.6429"
          ],
          "name": "stdout"
        }
      ]
    },
    {
      "cell_type": "markdown",
      "metadata": {
        "id": "0r6LjbUcfdEj",
        "colab_type": "text"
      },
      "source": [
        "Evaluate"
      ]
    },
    {
      "cell_type": "code",
      "metadata": {
        "id": "vuDw8YNAfewn",
        "colab_type": "code",
        "colab": {}
      },
      "source": [
        "acc = history.history['acc']\n",
        "val_acc = history.history['val_acc']\n",
        "\n",
        "loss = history.history['loss']\n",
        "val_loss = history.history['val_loss']\n",
        "\n",
        "epochs = range(1, len(acc) + 1)\n",
        "\n",
        "# training and validation accuracy\n",
        "\n",
        "plt.plot(epochs, acc, 'bo', label='training acc')\n",
        "plt.plot(epochs, val_acc, 'b', label='validation acc')\n",
        "plt.title('training and validation accuracy')\n",
        "plt.legend()\n",
        "\n",
        "plt.figure()\n",
        "\n",
        "# training and validation loss\n",
        "\n",
        "plt.plot(epochs, loss, 'bo', label='training loss')\n",
        "plt.plot(epochs, val_loss, 'b', label='validation loss')\n",
        "plt.title('training and validation loss')\n",
        "plt.legend()\n",
        "\n",
        "plt.show()"
      ],
      "execution_count": 0,
      "outputs": []
    },
    {
      "cell_type": "markdown",
      "metadata": {
        "id": "vrKnQAhrfiVH",
        "colab_type": "text"
      },
      "source": [
        "Fine tune: Aka, redo and try again and keep messing with it till you get it all happy and nice"
      ]
    },
    {
      "cell_type": "code",
      "metadata": {
        "id": "TFElJHSqfmuP",
        "colab_type": "code",
        "colab": {}
      },
      "source": [
        "# unfreeze convolutional base\n",
        "conv_base.trainable = True\n",
        "\n",
        "set_trainable = False\n",
        "for layer in conv_base.layers:\n",
        "  if layer.name == 'block5_conv1':\n",
        "    set_trainable = True\n",
        "  if set_trainable:\n",
        "    layer.trainable = True\n",
        "  else:\n",
        "    layer.trainable = False\n",
        "\n",
        "    # compile model\n",
        "\n",
        "model.compile(\n",
        "    loss='binary_crossentropy',\n",
        "    optimizer=optimizers.RMSprop(lr=1e-6), \n",
        "    metrics=['acc'])\n",
        "\n",
        "# train\n",
        "\n",
        "history = model.fit_generator(\n",
        "    train_generator,\n",
        "    steps_per_epoch=100,\n",
        "    epochs=50,\n",
        "    validation_data=validation_generator,\n",
        "    validation_steps=50)"
      ],
      "execution_count": 0,
      "outputs": []
    },
    {
      "cell_type": "markdown",
      "metadata": {
        "id": "2hlIooAIfqxR",
        "colab_type": "text"
      },
      "source": [
        "Check results"
      ]
    },
    {
      "cell_type": "code",
      "metadata": {
        "id": "FMbBr9hxfsC-",
        "colab_type": "code",
        "colab": {}
      },
      "source": [
        "acc = history.history['acc']\n",
        "val_acc = history.history['val_acc']\n",
        "\n",
        "loss = history.history['loss']\n",
        "val_loss = history.history['val_loss']\n",
        "\n",
        "epochs = range(1, len(acc) + 1)\n",
        "\n",
        "# training and validation accuracy\n",
        "\n",
        "plt.plot(epochs, acc, 'bo', label='training acc')\n",
        "plt.plot(epochs, val_acc, 'b', label='validation acc')\n",
        "plt.title('training and validation accuracy')\n",
        "plt.legend()\n",
        "\n",
        "plt.figure()\n",
        "\n",
        "# training and validation loss\n",
        "\n",
        "plt.plot(epochs, loss, 'bo', label='training loss')\n",
        "plt.plot(epochs, val_loss, 'b', label='validation loss')\n",
        "plt.title('training and validation loss')\n",
        "plt.legend()\n",
        "\n",
        "plt.show()"
      ],
      "execution_count": 0,
      "outputs": []
    },
    {
      "cell_type": "markdown",
      "metadata": {
        "id": "zzNySMZ-fuEG",
        "colab_type": "text"
      },
      "source": [
        "And Walah, you got yourself a fine tuned system."
      ]
    },
    {
      "cell_type": "code",
      "metadata": {
        "id": "ZMlb4YCXft0o",
        "colab_type": "code",
        "colab": {}
      },
      "source": [
        ""
      ],
      "execution_count": 0,
      "outputs": []
    }
  ]
}